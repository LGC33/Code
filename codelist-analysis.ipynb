{
 "cells": [
  {
   "cell_type": "code",
   "execution_count": 1,
   "metadata": {},
   "outputs": [],
   "source": [
    "import urllib3\n",
    "import orjson\n",
    "\n",
    "client = urllib3.connection_from_url(\"https://test.fim.uber.space/\")"
   ]
  },
  {
   "cell_type": "code",
   "execution_count": 2,
   "metadata": {},
   "outputs": [
    {
     "name": "stdout",
     "output_type": "stream",
     "text": [
      "Total code lists: 8599\n"
     ]
    }
   ],
   "source": [
    "response = client.request(\"GET\", \"/api/v0/code_lists\")\n",
    "\n",
    "\n",
    "assert response.status == 200\n",
    "code_lists = orjson.loads(response.data)\n",
    "\n",
    "print(\"Total code lists:\", len(code_lists))"
   ]
  },
  {
   "cell_type": "code",
   "execution_count": 3,
   "metadata": {},
   "outputs": [
    {
     "name": "stdout",
     "output_type": "stream",
     "text": [
      "Total external code lists: 22\n"
     ]
    }
   ],
   "source": [
    "external_code_lists = [\n",
    "    code_list for code_list in code_lists if code_list[\"is_external\"]\n",
    "]\n",
    "print(\"Total external code lists:\", len(external_code_lists))"
   ]
  },
  {
   "cell_type": "code",
   "execution_count": 5,
   "metadata": {},
   "outputs": [
    {
     "name": "stdout",
     "output_type": "stream",
     "text": [
      "S60000011 2.1 urn:de:fim:codeliste:anschrift-inland-oder-ausland_2021-06-18\n",
      "S60000011 2.1 urn:de:fim:codeliste:gesetzlichervertreter_2021-03-19\n",
      "S60000011 2.1 urn:de:fim:codeliste:gesetzlicher-vertreter-bevollmaechtigter_2021-06-18\n",
      "S60000011 2.1 urn:de:fim:codeliste:identifikationsdokumenteinternational_2020-08-19\n",
      "S60000011 2.1 urn:de:fim:codeliste:rechtsformen-gaengig_2021-06-18\n",
      "S60000011 2.1 urn:de:fim:codeliste:verwandtschaftsverhältnis_2020-08-17\n"
     ]
    }
   ],
   "source": [
    "def is_available_in_xrepository(canonical_version_uri: str) -> bool:\n",
    "    response = urllib3.request(\n",
    "        \"GET\",\n",
    "        f\"https://www.xrepository.de/api/xrepository/{canonical_version_uri}:technischerBestandteilGenericode\",\n",
    "    )\n",
    "\n",
    "    if response.status == 200:\n",
    "        return True\n",
    "    elif response.status == 404:\n",
    "        return False\n",
    "    else:\n",
    "        raise Exception(response)\n",
    "\n",
    "\n",
    "for code_list in external_code_lists:\n",
    "    canonical_version_uri = code_list[\"genericode_canonical_version_uri\"]\n",
    "\n",
    "    if not is_available_in_xrepository(canonical_version_uri):\n",
    "        print(\n",
    "            code_list[\"schema_id\"],\n",
    "            code_list[\"schema_version\"],\n",
    "            canonical_version_uri,\n",
    "        )"
   ]
  },
  {
   "cell_type": "code",
   "execution_count": null,
   "metadata": {},
   "outputs": [],
   "source": []
  }
 ],
 "metadata": {
  "kernelspec": {
   "display_name": "sammelrepository-97CcmtUJ-py3.10",
   "language": "python",
   "name": "python3"
  },
  "language_info": {
   "codemirror_mode": {
    "name": "ipython",
    "version": 3
   },
   "file_extension": ".py",
   "mimetype": "text/x-python",
   "name": "python",
   "nbconvert_exporter": "python",
   "pygments_lexer": "ipython3",
   "version": "3.10.6"
  },
  "orig_nbformat": 4
 },
 "nbformat": 4,
 "nbformat_minor": 2
}
